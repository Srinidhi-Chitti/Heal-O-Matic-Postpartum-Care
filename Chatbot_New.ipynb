{
 "cells": [
  {
   "cell_type": "code",
   "execution_count": null,
   "metadata": {},
   "outputs": [
    {
     "name": "stderr",
     "output_type": "stream",
     "text": [
      "C:\\Users\\srihr\\AppData\\Local\\Packages\\PythonSoftwareFoundation.Python.3.10_qbz5n2kfra8p0\\LocalCache\\local-packages\\Python310\\site-packages\\gradio\\blocks.py:692: UserWarning: Cannot load Dark. Caught Exception: The space Dark does not exist\n",
      "  warnings.warn(f\"Cannot load {theme}. Caught Exception: {str(e)}\")\n"
     ]
    },
    {
     "name": "stdout",
     "output_type": "stream",
     "text": [
      "Running on local URL:  http://127.0.0.1:7884\n",
      "Running on public URL: https://4a19c4363c693b5cec.gradio.live\n",
      "\n",
      "This share link expires in 72 hours. For free permanent hosting and GPU upgrades, run `gradio deploy` from Terminal to deploy to Spaces (https://huggingface.co/spaces)\n"
     ]
    },
    {
     "data": {
      "text/html": [
       "<div><iframe src=\"https://4a19c4363c693b5cec.gradio.live\" width=\"100%\" height=\"500\" allow=\"autoplay; camera; microphone; clipboard-read; clipboard-write;\" frameborder=\"0\" allowfullscreen></iframe></div>"
      ],
      "text/plain": [
       "<IPython.core.display.HTML object>"
      ]
     },
     "metadata": {},
     "output_type": "display_data"
    },
    {
     "data": {
      "text/plain": []
     },
     "execution_count": 27,
     "metadata": {},
     "output_type": "execute_result"
    }
   ],
   "source": [
    "from transformers import pipeline\n",
    "import gradio as gr\n",
    "\n",
    "asst_intro = \"\"\"\n",
    "Act as a postpartum care expert. Answer only postpartum-related questions.\n",
    "If asked unrelated things like 'what is cricket?', respond with \"I'm only trained to answer postpartum-related questions.\"\n",
    "\"\"\"\n",
    "\n",
    "pipe = pipeline(\"text2text-generation\", model=\"google/flan-t5-small\")\n",
    "\n",
    "def chatbot(input_text):\n",
    "    prompt = f\"{asst_intro} {input_text}\"\n",
    "    result = pipe(prompt, max_new_tokens=150, temperature=0.5)[0][\"generated_text\"]\n",
    "    return result\n",
    "\n",
    "inputs = gr.Textbox(lines=7, label=\"Chat with AI\")\n",
    "outputs = gr.Textbox(label=\"Reply\")\n",
    "\n",
    "gr.Interface(\n",
    "    fn=chatbot,\n",
    "    inputs=inputs,\n",
    "    outputs=outputs,\n",
    "    title=\"Postpartum Care Chatbot\",\n",
    "    description=\"Ask anything postpartum-related. For other topics, the AI will politely decline.\",\n",
    "    theme=\"dark\"\n",
    ").launch(share=True)\n"
   ]
  }
 ],
 "metadata": {
  "kernelspec": {
   "display_name": "Python 3",
   "language": "python",
   "name": "python3"
  },
  "language_info": {
   "codemirror_mode": {
    "name": "ipython",
    "version": 3
   },
   "file_extension": ".py",
   "mimetype": "text/x-python",
   "name": "python",
   "nbconvert_exporter": "python",
   "pygments_lexer": "ipython3",
   "version": "3.10.11"
  },
  "orig_nbformat": 4
 },
 "nbformat": 4,
 "nbformat_minor": 2
}
